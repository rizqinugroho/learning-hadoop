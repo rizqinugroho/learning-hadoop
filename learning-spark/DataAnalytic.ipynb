{
  "nbformat": 4,
  "nbformat_minor": 0,
  "metadata": {
    "colab": {
      "name": "DataAnalytic.ipynb",
      "provenance": [],
      "collapsed_sections": [],
      "authorship_tag": "ABX9TyMHYBbC/2J5Ls40eFGhx5X/",
      "include_colab_link": true
    },
    "kernelspec": {
      "name": "python3",
      "display_name": "Python 3"
    },
    "language_info": {
      "name": "python"
    }
  },
  "cells": [
    {
      "cell_type": "markdown",
      "metadata": {
        "id": "view-in-github",
        "colab_type": "text"
      },
      "source": [
        "<a href=\"https://colab.research.google.com/github/rizqinugroho/learning-hadoop/blob/main/learning-spark/DataAnalytic.ipynb\" target=\"_parent\"><img src=\"https://colab.research.google.com/assets/colab-badge.svg\" alt=\"Open In Colab\"/></a>"
      ]
    },
    {
      "cell_type": "markdown",
      "source": [
        "Spark ditulis dalam bahasa Scala dan membutuhkan Java Virtual Machine (JVM) untuk bisa berjalan. Maka dari itu, kita membutuhkan java untuk dia bisa berjalan diatasnya"
      ],
      "metadata": {
        "id": "-4GTHWwj4sif"
      }
    },
    {
      "cell_type": "code",
      "execution_count": 1,
      "metadata": {
        "id": "xJKqm3WF3Nsw"
      },
      "outputs": [],
      "source": [
        "!apt-get install openjdk-8-jdk-headless -qq > /dev/null"
      ]
    },
    {
      "cell_type": "code",
      "source": [
        "!wget -q https://archive.apache.org/dist/spark/spark-3.2.1/spark-3.2.1-bin-hadoop2.7.tgz\n",
        "!tar xf spark-3.2.1-bin-hadoop2.7.tgz"
      ],
      "metadata": {
        "id": "3q04nTg23oGJ"
      },
      "execution_count": 4,
      "outputs": []
    },
    {
      "cell_type": "markdown",
      "source": [
        "set the ‘environment’ path."
      ],
      "metadata": {
        "id": "PJcy6tPA488_"
      }
    },
    {
      "cell_type": "code",
      "source": [
        "import os\n",
        "os.environ[\"JAVA_HOME\"] = \"/usr/lib/jvm/java-8-openjdk-amd64\"\n",
        "os.environ[\"SPARK_HOME\"] = \"/content/spark-3.2.1-bin-hadoop2.7/bin\""
      ],
      "metadata": {
        "id": "b2f3vtLn4W0v"
      },
      "execution_count": 5,
      "outputs": []
    },
    {
      "cell_type": "markdown",
      "source": [
        "Lalu, kita. butuh menginstall **Findspark** library yang akan mencari spark dalam sistem dan akan menginstallnya sebagai regular library.  "
      ],
      "metadata": {
        "id": "3yRw7vd54_4e"
      }
    },
    {
      "cell_type": "code",
      "source": [
        "!pip install -q findspark\n",
        "import findspark\n",
        "findspark.init(\"/content/spark-3.2.1-bin-hadoop2.7/\", edit_rc=True)"
      ],
      "metadata": {
        "id": "oN_2UXEQ4aES"
      },
      "execution_count": 6,
      "outputs": []
    },
    {
      "cell_type": "markdown",
      "source": [
        "Sekarang, kita bisa import SparkSession dari pyspark.sql and membuat  SparkSession, yang merupakan pintu gerbang to Spark."
      ],
      "metadata": {
        "id": "1yzs642d5Hcq"
      }
    },
    {
      "cell_type": "code",
      "source": [
        "from pyspark.sql import SparkSession\n",
        "spark = SparkSession.builder\\\n",
        "        .master(\"local\")\\\n",
        "        .appName(\"Colab\")\\\n",
        "        .config('spark.ui.port', '4050')\\\n",
        "        .getOrCreate()"
      ],
      "metadata": {
        "id": "SPBDMgLP4pjX"
      },
      "execution_count": 7,
      "outputs": []
    },
    {
      "cell_type": "markdown",
      "source": [
        "Download Sample dataset "
      ],
      "metadata": {
        "id": "QKMba2ui9MRy"
      }
    },
    {
      "cell_type": "code",
      "source": [
        "!wget --continue https://raw.githubusercontent.com/rizqinugroho/learning-hadoop/main/learning-spark/sample-books.json -O /tmp/sample-book.json"
      ],
      "metadata": {
        "colab": {
          "base_uri": "https://localhost:8080/"
        },
        "id": "R5F_lVCU9SEM",
        "outputId": "89b2a5cf-ce4c-4798-e135-e57d669e8700"
      },
      "execution_count": null,
      "outputs": [
        {
          "output_type": "stream",
          "name": "stdout",
          "text": [
            "--2022-02-02 13:05:02--  https://raw.githubusercontent.com/rizqinugroho/learning-hadoop/main/learning-spark/sample-books.json\n",
            "Resolving raw.githubusercontent.com (raw.githubusercontent.com)... 185.199.108.133, 185.199.109.133, 185.199.110.133, ...\n",
            "Connecting to raw.githubusercontent.com (raw.githubusercontent.com)|185.199.108.133|:443... connected.\n",
            "HTTP request sent, awaiting response... 200 OK\n",
            "Length: 1578 (1.5K) [text/plain]\n",
            "Saving to: ‘/tmp/sample-book.json’\n",
            "\n",
            "\r/tmp/sample-book.js   0%[                    ]       0  --.-KB/s               \r/tmp/sample-book.js 100%[===================>]   1.54K  --.-KB/s    in 0s      \n",
            "\n",
            "2022-02-02 13:05:02 (20.6 MB/s) - ‘/tmp/sample-book.json’ saved [1578/1578]\n",
            "\n"
          ]
        }
      ]
    },
    {
      "cell_type": "markdown",
      "source": [
        "Buat sebuah dataframe dari sample file"
      ],
      "metadata": {
        "id": "OKe1Z5NCbxgJ"
      }
    },
    {
      "cell_type": "code",
      "source": [
        "df = spark.read.option(\"multiline\",\"true\").json(\"/tmp/sample-book.json\")\n",
        "df.show()"
      ],
      "metadata": {
        "colab": {
          "base_uri": "https://localhost:8080/",
          "height": 184
        },
        "id": "Jik1LioG9X4y",
        "outputId": "7d85cf86-7029-47ec-d620-e0157b3ef53a"
      },
      "execution_count": null,
      "outputs": [
        {
          "output_type": "error",
          "ename": "NameError",
          "evalue": "ignored",
          "traceback": [
            "\u001b[0;31m---------------------------------------------------------------------------\u001b[0m",
            "\u001b[0;31mNameError\u001b[0m                                 Traceback (most recent call last)",
            "\u001b[0;32m<ipython-input-1-47caf3c9d529>\u001b[0m in \u001b[0;36m<module>\u001b[0;34m()\u001b[0m\n\u001b[0;32m----> 1\u001b[0;31m \u001b[0mdf\u001b[0m \u001b[0;34m=\u001b[0m \u001b[0mspark\u001b[0m\u001b[0;34m.\u001b[0m\u001b[0mread\u001b[0m\u001b[0;34m.\u001b[0m\u001b[0moption\u001b[0m\u001b[0;34m(\u001b[0m\u001b[0;34m\"multiline\"\u001b[0m\u001b[0;34m,\u001b[0m\u001b[0;34m\"true\"\u001b[0m\u001b[0;34m)\u001b[0m\u001b[0;34m.\u001b[0m\u001b[0mjson\u001b[0m\u001b[0;34m(\u001b[0m\u001b[0;34m\"/tmp/sample-book.json\"\u001b[0m\u001b[0;34m)\u001b[0m\u001b[0;34m\u001b[0m\u001b[0;34m\u001b[0m\u001b[0m\n\u001b[0m\u001b[1;32m      2\u001b[0m \u001b[0mdf\u001b[0m\u001b[0;34m.\u001b[0m\u001b[0mshow\u001b[0m\u001b[0;34m(\u001b[0m\u001b[0;34m)\u001b[0m\u001b[0;34m\u001b[0m\u001b[0;34m\u001b[0m\u001b[0m\n",
            "\u001b[0;31mNameError\u001b[0m: name 'spark' is not defined"
          ]
        }
      ]
    },
    {
      "cell_type": "markdown",
      "source": [
        "Print schema"
      ],
      "metadata": {
        "id": "Q_FAYNi4b1W6"
      }
    },
    {
      "cell_type": "code",
      "source": [
        "df.printSchema()"
      ],
      "metadata": {
        "colab": {
          "base_uri": "https://localhost:8080/"
        },
        "id": "kmk3JTF59ddV",
        "outputId": "95f9028a-e7a0-44d9-e0fc-e0a5a6ef5684"
      },
      "execution_count": null,
      "outputs": [
        {
          "output_type": "stream",
          "name": "stdout",
          "text": [
            "root\n",
            " |-- author: string (nullable = true)\n",
            " |-- edition: string (nullable = true)\n",
            " |-- price: double (nullable = true)\n",
            " |-- title: string (nullable = true)\n",
            " |-- year_written: long (nullable = true)\n",
            "\n"
          ]
        }
      ]
    },
    {
      "cell_type": "code",
      "source": [
        "df_lenght = df.count()\n",
        "print(df_lenght)\n"
      ],
      "metadata": {
        "colab": {
          "base_uri": "https://localhost:8080/"
        },
        "id": "KBQ0ptvy9fWT",
        "outputId": "f92fe540-a6ce-4f62-b916-b0f94e0d849b"
      },
      "execution_count": null,
      "outputs": [
        {
          "output_type": "stream",
          "name": "stdout",
          "text": [
            "13\n"
          ]
        }
      ]
    },
    {
      "cell_type": "code",
      "source": [
        "df.count()"
      ],
      "metadata": {
        "colab": {
          "base_uri": "https://localhost:8080/"
        },
        "id": "NycTr6Ua9qSm",
        "outputId": "e7765025-c2d6-4c4c-cc9d-2d10b58faedb"
      },
      "execution_count": null,
      "outputs": [
        {
          "output_type": "execute_result",
          "data": {
            "text/plain": [
              "13"
            ]
          },
          "metadata": {},
          "execution_count": 96
        }
      ]
    },
    {
      "cell_type": "code",
      "source": [
        "df.select(\"title\", \"price\", \"year_written\").show(5)"
      ],
      "metadata": {
        "colab": {
          "base_uri": "https://localhost:8080/"
        },
        "id": "W9onSEAb9ygT",
        "outputId": "c994c060-78e3-4a69-fd85-22ed498ad470"
      },
      "execution_count": null,
      "outputs": [
        {
          "output_type": "stream",
          "name": "stdout",
          "text": [
            "+----------------+-----+------------+\n",
            "|           title|price|year_written|\n",
            "+----------------+-----+------------+\n",
            "|Northanger Abbey| 18.2|        1814|\n",
            "|   War and Peace| 12.7|        1865|\n",
            "|   Anna Karenina| 13.5|        1875|\n",
            "|   Mrs. Dalloway| 25.0|        1925|\n",
            "|       The Hours|12.35|        1999|\n",
            "+----------------+-----+------------+\n",
            "only showing top 5 rows\n",
            "\n"
          ]
        }
      ]
    },
    {
      "cell_type": "markdown",
      "source": [
        "Salah satu contoh narrow transformation adalah filter"
      ],
      "metadata": {
        "id": "lulVG5RaYMjS"
      }
    },
    {
      "cell_type": "code",
      "source": [
        "df_filtered = df.filter(\"year_written > 1950 AND price > 10 AND title IS NOT NULL\")\n",
        "df_filtered.select(\"title\", \"price\", \"year_written\").show(50, truncate=False)"
      ],
      "metadata": {
        "colab": {
          "base_uri": "https://localhost:8080/"
        },
        "id": "KtRjzv56-obT",
        "outputId": "95e28c93-cd33-46a4-912e-55aa9ff5cf60"
      },
      "execution_count": null,
      "outputs": [
        {
          "output_type": "stream",
          "name": "stdout",
          "text": [
            "+-----------------------------+-----+------------+\n",
            "|title                        |price|year_written|\n",
            "+-----------------------------+-----+------------+\n",
            "|The Hours                    |12.35|1999        |\n",
            "|Harry Potter                 |19.95|2000        |\n",
            "|One Hundred Years of Solitude|14.0 |1967        |\n",
            "+-----------------------------+-----+------------+\n",
            "\n"
          ]
        }
      ]
    },
    {
      "cell_type": "markdown",
      "source": [
        "Spark transformation adalah lazzy maka saat kita mendefine satu syntax dia tidak akan langsung di eksekusi"
      ],
      "metadata": {
        "id": "p_SXWHfybci-"
      }
    },
    {
      "cell_type": "code",
      "source": [
        "df_filtered_tittle = df_filtered.filter(\"year_written=2000\")\n",
        "df.show()\n",
        "df_filtered.show()\n",
        "df_filtered_tittle.show()\n"
      ],
      "metadata": {
        "id": "WTlh9gToTBkN",
        "colab": {
          "base_uri": "https://localhost:8080/"
        },
        "outputId": "b2488520-b456-4ad1-a555-7c6a7b4f01a9"
      },
      "execution_count": null,
      "outputs": [
        {
          "output_type": "stream",
          "name": "stdout",
          "text": [
            "+--------------------+-----------------+-----+--------------------+------------+\n",
            "|              author|          edition|price|               title|year_written|\n",
            "+--------------------+-----------------+-----+--------------------+------------+\n",
            "|        Austen, Jane|          Penguin| 18.2|    Northanger Abbey|        1814|\n",
            "|        Tolstoy, Leo|          Penguin| 12.7|       War and Peace|        1865|\n",
            "|        Tolstoy, Leo|          Penguin| 13.5|       Anna Karenina|        1875|\n",
            "|     Woolf, Virginia|   Harcourt Brace| 25.0|       Mrs. Dalloway|        1925|\n",
            "|Cunnningham, Michael|   Harcourt Brace|12.35|           The Hours|        1999|\n",
            "|         Twain, Mark|          Penguin| 5.76|    Huckleberry Finn|        1865|\n",
            "|    Dickens, Charles|     Random House| 5.75|         Bleak House|        1870|\n",
            "|         Twain, Mark|     Random House| 7.75|          Tom Sawyer|        1862|\n",
            "|     Woolf, Virginia|          Penguin| 29.0| A Room of One's Own|        1922|\n",
            "|       Rowling, J.K.|   Harcourt Brace|19.95|        Harry Potter|        2000|\n",
            "|             Marquez|Harper  Perennial| 14.0|One Hundred Years...|        1967|\n",
            "|         Shakespeare| Signet  Classics| 7.95|Hamlet, Prince of...|        1603|\n",
            "|       Tolkien, J.R.|          Penguin|27.45|   Lord of the Rings|        1937|\n",
            "+--------------------+-----------------+-----+--------------------+------------+\n",
            "\n",
            "+--------------------+-----------------+-----+--------------------+------------+\n",
            "|              author|          edition|price|               title|year_written|\n",
            "+--------------------+-----------------+-----+--------------------+------------+\n",
            "|Cunnningham, Michael|   Harcourt Brace|12.35|           The Hours|        1999|\n",
            "|       Rowling, J.K.|   Harcourt Brace|19.95|        Harry Potter|        2000|\n",
            "|             Marquez|Harper  Perennial| 14.0|One Hundred Years...|        1967|\n",
            "+--------------------+-----------------+-----+--------------------+------------+\n",
            "\n",
            "+-------------+--------------+-----+------------+------------+\n",
            "|       author|       edition|price|       title|year_written|\n",
            "+-------------+--------------+-----+------------+------------+\n",
            "|Rowling, J.K.|Harcourt Brace|19.95|Harry Potter|        2000|\n",
            "+-------------+--------------+-----+------------+------------+\n",
            "\n"
          ]
        }
      ]
    },
    {
      "cell_type": "markdown",
      "source": [
        "Eksekusi hanya akan berjalan setelah ada action, berikut sample action .show()"
      ],
      "metadata": {
        "id": "98G2iSKrblKC"
      }
    },
    {
      "cell_type": "code",
      "source": [
        "modulus.select(\"title\", \"price\", \"year_written\").show()"
      ],
      "metadata": {
        "colab": {
          "base_uri": "https://localhost:8080/"
        },
        "id": "LMi93uGFTXjA",
        "outputId": "6dc8f766-fa9f-4074-f122-1f0e23927894"
      },
      "execution_count": null,
      "outputs": [
        {
          "output_type": "stream",
          "name": "stdout",
          "text": [
            "+------------+-----+------------+\n",
            "|       title|price|year_written|\n",
            "+------------+-----+------------+\n",
            "|Harry Potter|19.95|        2000|\n",
            "+------------+-----+------------+\n",
            "\n"
          ]
        }
      ]
    },
    {
      "cell_type": "markdown",
      "source": [
        "Sample wide transformation adalah groupBy"
      ],
      "metadata": {
        "id": "dZYNCy5MeUuS"
      }
    },
    {
      "cell_type": "code",
      "source": [
        "df.groupby('edition').count().show()"
      ],
      "metadata": {
        "colab": {
          "base_uri": "https://localhost:8080/"
        },
        "id": "JLq7AoaseY-F",
        "outputId": "92f1e560-e84a-4990-b40c-8eeed1f381b5"
      },
      "execution_count": null,
      "outputs": [
        {
          "output_type": "stream",
          "name": "stdout",
          "text": [
            "+-----------------+-----+\n",
            "|          edition|count|\n",
            "+-----------------+-----+\n",
            "| Signet  Classics|    1|\n",
            "|Harper  Perennial|    1|\n",
            "|     Random House|    2|\n",
            "|   Harcourt Brace|    3|\n",
            "|          Penguin|    6|\n",
            "+-----------------+-----+\n",
            "\n"
          ]
        }
      ]
    },
    {
      "cell_type": "markdown",
      "source": [
        "Untuk mengetahui lebih dalam, kenapa wide gunakan explain"
      ],
      "metadata": {
        "id": "hEmDX73demeQ"
      }
    },
    {
      "cell_type": "code",
      "source": [
        "grp_by = df.groupby('edition').count()\n",
        "grp_by.explain()\n",
        "\n",
        "df_filtered = df.filter(\"year_written > 1950 AND price > 10 AND title IS NOT NULL\")\n",
        "df_filtered.explain()"
      ],
      "metadata": {
        "colab": {
          "base_uri": "https://localhost:8080/"
        },
        "id": "qRoiYRexetQ4",
        "outputId": "bbdabb76-0343-47a2-d256-45bd96fa2f98"
      },
      "execution_count": null,
      "outputs": [
        {
          "output_type": "stream",
          "name": "stdout",
          "text": [
            "== Physical Plan ==\n",
            "AdaptiveSparkPlan isFinalPlan=false\n",
            "+- HashAggregate(keys=[edition#47], functions=[count(1)])\n",
            "   +- Exchange hashpartitioning(edition#47, 200), ENSURE_REQUIREMENTS, [id=#224]\n",
            "      +- HashAggregate(keys=[edition#47], functions=[partial_count(1)])\n",
            "         +- FileScan json [edition#47] Batched: false, DataFilters: [], Format: JSON, Location: InMemoryFileIndex(1 paths)[file:/tmp/sample-book.json], PartitionFilters: [], PushedFilters: [], ReadSchema: struct<edition:string>\n",
            "\n",
            "\n",
            "== Physical Plan ==\n",
            "*(1) Filter ((((isnotnull(year_written#50L) AND isnotnull(price#48)) AND (year_written#50L > 1950)) AND (price#48 > 10.0)) AND isnotnull(title#49))\n",
            "+- FileScan json [author#46,edition#47,price#48,title#49,year_written#50L] Batched: false, DataFilters: [isnotnull(year_written#50L), isnotnull(price#48), (year_written#50L > 1950), (price#48 > 10.0), ..., Format: JSON, Location: InMemoryFileIndex(1 paths)[file:/tmp/sample-book.json], PartitionFilters: [], PushedFilters: [IsNotNull(year_written), IsNotNull(price), GreaterThan(year_written,1950), GreaterThan(price,10...., ReadSchema: struct<author:string,edition:string,price:double,title:string,year_written:bigint>\n",
            "\n",
            "\n"
          ]
        }
      ]
    }
  ]
}